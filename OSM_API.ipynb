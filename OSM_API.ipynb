{
 "cells": [
  {
   "cell_type": "markdown",
   "metadata": {},
   "source": [
    "## Open Street map\n",
    "### Using open street map for download geographic objects"
   ]
  },
  {
   "cell_type": "code",
   "execution_count": 1,
   "metadata": {},
   "outputs": [],
   "source": [
    "# -*- coding: utf-8 -*-\n",
    "\"\"\"\n",
    "Created on Thu Feb 28 18:36:00 2019\n",
    "\n",
    "@author: mor\n",
    "\"\"\"\n",
    "\n",
    "import requests\n",
    "from bs4 import BeautifulSoup\n",
    "import re\n",
    "import pandas as pd\n",
    "import numpy as np\n",
    "import json\n",
    "import folium\n",
    "import datetime\n",
    "import tempfile \n",
    "import webbrowser, os\n",
    "import time\n",
    "import os\n",
    "import json\n",
    "import folium\n",
    "import geopandas as gpd"
   ]
  },
  {
   "cell_type": "code",
   "execution_count": 2,
   "metadata": {},
   "outputs": [],
   "source": [
    "BASE = os.getcwd()\n",
    "DATA = os.path.join(BASE,'data')"
   ]
  },
  {
   "cell_type": "markdown",
   "metadata": {},
   "source": [
    "\n",
    "### This code use open street map API\n",
    "#### https://wiki.openstreetmap.org/wiki/Nominatim \n",
    "#### https://wiki.openstreetmap.org/wiki/Zoom_levels\n",
    "#### http://nominatim.org/release-docs/latest/\n"
   ]
  },
  {
   "cell_type": "code",
   "execution_count": 3,
   "metadata": {},
   "outputs": [],
   "source": [
    "import sys\n",
    "from termcolor import colored, cprint\n",
    "\n",
    "\n",
    "def error_print(text):\n",
    "    text = '*****\\nError empty\\n' + text + '\\n*****'\n",
    "    text = colored(text, 'red')\n",
    "    print(text)\n",
    "\n",
    "\n",
    "#check if json is legit geojson\n",
    "def check_json(file):\n",
    "    try:\n",
    "        f = file['features']\n",
    "    except:\n",
    "        f = {}\n",
    "\n",
    "    if not f:\n",
    "        error_print(str(file))\n",
    "        return None\n",
    "    else:\n",
    "        return file\n",
    "\n",
    "\n",
    "#Get geojson object by coordinates\n",
    "def get_polygon_by_lat_long(lat, lon, zoom=11, sleep=1.5):\n",
    "    lat = str(lat)\n",
    "    lon = str(lon)\n",
    "    zoom = str(zoom)\n",
    "    url = 'https://nominatim.openstreetmap.org/reverse?format=geojson&lat=' + lat + '&lon=' + lon + '&polygon_geojson=1&zoom=' + zoom\n",
    "    time.sleep(sleep)\n",
    "    r = requests.get(url)\n",
    "    return check_json(r.json())\n",
    "\n",
    "\n",
    "#Get geojson object by city name\n",
    "def get_polygon_by_city(city, sleep=1.5):\n",
    "    city = str(city)\n",
    "    url = 'https://nominatim.openstreetmap.org/search/?city=' + city + '&format=geojson&limit=1&polygon_geojson=1'\n",
    "    time.sleep(sleep)\n",
    "    r = requests.get(url)\n",
    "    j = r.json()\n",
    "    if not check_json(j):\n",
    "        return None\n",
    "    return j\n",
    "\n",
    "\n",
    "#Get geojson Node by coordinates\n",
    "def get_node_by_lat_long(lat, lon, sleep=1.5):\n",
    "    lat = str(lat)\n",
    "    lon = str(lon)\n",
    "    url = 'https://nominatim.openstreetmap.org/reverse?format=geojson&lat=' + lat + '&lon=' + lon + '&osm_type=N'\n",
    "    time.sleep(sleep)\n",
    "    r = requests.get(url)\n",
    "    return check_json(r.json())\n",
    "\n",
    "\n",
    "#Get geojson object by osm_type (N - node, W - way, R - relation)\n",
    "def get_geojson_by_osmID(osm_id, osm_type, sleep=1.5):\n",
    "    osm_id = str(osm_id)\n",
    "    url = 'https://nominatim.openstreetmap.org/reverse?format=geojson&osm_id=' + osm_id + '&osm_type=' + osm_type + '&polygon_geojson=1'\n",
    "    time.sleep(sleep)\n",
    "    r = requests.get(url)\n",
    "    return check_json(r.json())"
   ]
  },
  {
   "cell_type": "code",
   "execution_count": 4,
   "metadata": {
    "scrolled": true
   },
   "outputs": [
    {
     "name": "stdout",
     "output_type": "stream",
     "text": [
      "\u001b[31m*****\n",
      "Error empty\n",
      "{'type': 'FeatureCollection', 'licence': 'Data © OpenStreetMap contributors, ODbL 1.0. https://osm.org/copyright', 'features': []}\n",
      "*****\u001b[0m\n"
     ]
    }
   ],
   "source": [
    "data = get_polygon_by_city('dsds')"
   ]
  },
  {
   "cell_type": "markdown",
   "metadata": {},
   "source": [
    "\n",
    "### Examples using API\n"
   ]
  },
  {
   "cell_type": "code",
   "execution_count": 5,
   "metadata": {},
   "outputs": [
    {
     "name": "stdout",
     "output_type": "stream",
     "text": [
      "Way data\n",
      "\n",
      "{'type': 'FeatureCollection', 'licence': 'Data © OpenStreetMap contributors, ODbL 1.0. https://osm.org/copyright', 'features': [{'type': 'Feature', 'properties': {'place_id': 216734494, 'osm_type': 'way', 'osm_id': 650788981, 'place_rank': 19, 'category': 'place', 'type': 'village', 'importance': 0.275, 'addresstype': 'place', 'name': 'ראש הנקרה', 'display_name': 'ראש הנקרה, מועצה אזורית מטה אשר, מחוז הצפון, ישראל', 'address': {'village': 'ראש הנקרה', 'city': 'מועצה אזורית מטה אשר', 'state': 'מחוז הצפון', 'country': 'ישראל', 'country_code': 'il'}}, 'bbox': [35.1097884, 33.0830268, 35.1217446, 33.0899304], 'geometry': {'type': 'Polygon', 'coordinates': [[[35.1097884, 33.0865436], [35.1098099, 33.0863099], [35.1100588, 33.0856229], [35.1101961, 33.0853173], [35.1104796, 33.0850406], [35.110724, 33.0849507], [35.1109689, 33.0849471], [35.1112819, 33.0851051], [35.1116383, 33.0851051], [35.1123422, 33.0850586], [35.112977, 33.0849687], [35.1130717, 33.0851485], [35.1138141, 33.085195], [35.1137369, 33.0849217], [35.1146252, 33.0846595], [35.1153891, 33.0859142], [35.1145778, 33.0862056], [35.1150544, 33.0869104], [35.1152558, 33.0870182], [35.1154406, 33.0870756], [35.1155133, 33.0869463], [35.1157668, 33.0866261], [35.1159511, 33.0865722], [35.116153, 33.0869317], [35.1174147, 33.0866009], [35.1183114, 33.0862236], [35.118213, 33.0860115], [35.1180754, 33.0856843], [35.1180325, 33.0853247], [35.1180998, 33.0849656], [35.1182068, 33.0846062], [35.118552, 33.0841882], [35.1188524, 33.0839403], [35.1182559, 33.083505], [35.1182516, 33.0831562], [35.1194701, 33.0830268], [35.1200237, 33.0830484], [35.1202383, 33.0831313], [35.1205046, 33.0833612], [35.1209747, 33.083736], [35.1208816, 33.0838495], [35.1211741, 33.0841201], [35.1213756, 33.0843538], [35.1216116, 33.0846954], [35.1217446, 33.085026], [35.1216974, 33.0852777], [35.119895, 33.0858171], [35.1199379, 33.0861623], [35.1196589, 33.0861838], [35.1196632, 33.086414], [35.1199164, 33.0863998], [35.1201184, 33.0863492], [35.1206245, 33.0862236], [35.1208606, 33.0861946], [35.1211312, 33.0861946], [35.1213112, 33.0863205], [35.1215132, 33.0866549], [35.119556, 33.0874279], [35.119479, 33.0872879], [35.1191571, 33.0874387], [35.1189036, 33.0876113], [35.1185689, 33.0879963], [35.1183417, 33.0882012], [35.1179769, 33.0885104], [35.1174874, 33.0888444], [35.1171312, 33.0890711], [35.1168697, 33.089168], [35.1165218, 33.0892401], [35.1159725, 33.0892581], [35.1150115, 33.0892149], [35.1144276, 33.0891212], [35.1142259, 33.0891212], [35.1137669, 33.089161], [35.113389, 33.0892401], [35.1130073, 33.0892005], [35.1127971, 33.0892291], [35.112505, 33.0893659], [35.1118744, 33.0896426], [35.1119817, 33.0898547], [35.1118143, 33.0899232], [35.1114924, 33.0899304], [35.1111491, 33.0899232], [35.1108098, 33.0898046], [35.1106642, 33.0896749], [35.1105824, 33.0894019], [35.1105309, 33.0889812], [35.1106038, 33.0884599], [35.1107629, 33.0881614], [35.1109732, 33.0880464], [35.1109903, 33.0878594], [35.1106253, 33.0878055], [35.110544, 33.0876473], [35.1104321, 33.0873992], [35.1098871, 33.0867519], [35.1097884, 33.0865436]]]}}]}\n",
      "\n",
      "\n",
      "\n"
     ]
    }
   ],
   "source": [
    "# ID of Way type from open street map\n",
    "wid = str(650788981)\n",
    "\n",
    "##example Way data\n",
    "data1 = get_geojson_by_osmID(wid, 'W')\n",
    "print('Way data\\n')\n",
    "print(data1)\n",
    "print('\\n\\n')"
   ]
  },
  {
   "cell_type": "code",
   "execution_count": 6,
   "metadata": {},
   "outputs": [
    {
     "name": "stdout",
     "output_type": "stream",
     "text": [
      "Relation data\n",
      "\n",
      "{'type': 'FeatureCollection', 'licence': 'Data © OpenStreetMap contributors, ODbL 1.0. https://osm.org/copyright', 'features': [{'type': 'Feature', 'properties': {'place_id': 235455287, 'osm_type': 'relation', 'osm_id': 1380226, 'place_rank': 16, 'category': 'boundary', 'type': 'administrative', 'importance': 0.5535470946106127, 'addresstype': 'boundary', 'name': 'עפולה', 'display_name': 'עפולה, מחוז הצפון, 1839010, ישראל', 'address': {'city': 'עפולה', 'state': 'מחוז הצפון', 'postcode': '1839010', 'country': 'ישראל', 'country_code': 'il'}}, 'bbox': [35.2474199, 32.5760736, 35.3742374, 32.6418862], 'geometry': {'type': 'MultiPolygon', 'coordinates': [[[[35.2474199, 32.6057459], [35.2502356, 32.6057455], [35.2502349, 32.6071831], [35.253136, 32.6080291], [35.253136, 32.6048169], [35.2579066, 32.604584], [35.25995, 32.6045803], [35.2599534, 32.6058658], [35.2603925, 32.6077213], [35.2599585, 32.6087519], [35.2599545, 32.6098024], [35.2578249, 32.6097969], [35.2578219, 32.6100547], [35.2531355, 32.6100589], [35.2531353, 32.610611], [35.2523152, 32.611528], [35.2520268, 32.6116979], [35.2509819, 32.610536], [35.2502944, 32.6104581], [35.2499569, 32.610384], [35.2496181, 32.6103412], [35.2474245, 32.6103418], [35.2474199, 32.6057459]]], [[[35.2563876, 32.5984895], [35.2566371, 32.5982307], [35.2567519, 32.5981619], [35.2568466, 32.5981246], [35.2573882, 32.5980218], [35.257639, 32.5980082], [35.257945, 32.5979286], [35.258376, 32.5975948], [35.2584796, 32.5973959], [35.2584345, 32.5972853], [35.2587538, 32.5970316], [35.2605929, 32.5969559], [35.2608196, 32.5969956], [35.2610769, 32.5971272], [35.2613413, 32.5974957], [35.2615673, 32.5975778], [35.2620405, 32.5976269], [35.2624913, 32.5976422], [35.2627394, 32.5974178], [35.2627791, 32.5972377], [35.2626499, 32.5964181], [35.262463, 32.5961881], [35.2623512, 32.5959899], [35.2622901, 32.5958561], [35.2622393, 32.5956371], [35.2623406, 32.5954691], [35.2631647, 32.5945008], [35.2632412, 32.5943557], [35.2632706, 32.5939643], [35.2630548, 32.5934404], [35.2626867, 32.5934074], [35.262099, 32.5935361], [35.2619754, 32.5934789], [35.2618157, 32.5933248], [35.2614288, 32.5926338], [35.2613181, 32.5925487], [35.2611513, 32.5922169], [35.2612797, 32.5919748], [35.2615321, 32.5918651], [35.2621534, 32.5917769], [35.2630437, 32.5914809], [35.2631544, 32.5913842], [35.2631572, 32.5911683], [35.2630919, 32.5910585], [35.2624848, 32.5905245], [35.2623633, 32.590313], [35.2623317, 32.5901582], [35.2624064, 32.5900296], [35.2625479, 32.5898786], [35.2629164, 32.5896767], [35.2635338, 32.5895507], [35.2642657, 32.5895784], [35.2644152, 32.5894747], [35.264634, 32.5891263], [35.2647964, 32.5886341], [35.2649241, 32.5884981], [35.2654755, 32.588092], [35.2657869, 32.5880786], [35.266289, 32.5881421], [35.2665657, 32.5881332], [35.2669815, 32.5880352], [35.2671869, 32.5877918], [35.2673699, 32.5877185], [35.2676253, 32.5876767], [35.2678772, 32.5877952], [35.2680124, 32.587816], [35.2682921, 32.5877755], [35.2685295, 32.5876648], [35.2686878, 32.5875382], [35.2694636, 32.58708], [35.2696459, 32.5869143], [35.2695793, 32.5861577], [35.2694993, 32.5858733], [35.2694308, 32.5851003], [35.2694299, 32.5847991], [35.2694644, 32.5846714], [35.2697238, 32.5841768], [35.2698305, 32.5840308], [35.2701917, 32.5837286], [35.2703143, 32.5836756], [35.2706175, 32.5834379], [35.2708032, 32.5832659], [35.2708436, 32.5829553], [35.2707564, 32.5825621], [35.2707941, 32.5823688], [35.2713662, 32.5814477], [35.2721265, 32.5810582], [35.2723408, 32.580834], [35.2731567, 32.5804202], [35.2732374, 32.5805007], [35.273281, 32.5804859], [35.2745089, 32.5799472], [35.2751747, 32.5797039], [35.2753667, 32.5795636], [35.2754632, 32.579459], [35.2759892, 32.5786639], [35.2762376, 32.5784487], [35.2764234, 32.5783593], [35.2765766, 32.578323], [35.2772128, 32.5782686], [35.277352, 32.5782774], [35.2778231, 32.5782061], [35.2785805, 32.5781628], [35.2803721, 32.5779919], [35.2808185, 32.577911], [35.2811286, 32.5777449], [35.2813573, 32.5774712], [35.281585, 32.5771244], [35.2818691, 32.5768385], [35.282214, 32.5766937], [35.2824383, 32.5766539], [35.28319, 32.576551], [35.286141, 32.5763127], [35.2864133, 32.5763564], [35.2867561, 32.576509], [35.2872762, 32.5768111], [35.2874966, 32.5768871], [35.2876527, 32.5769105], [35.288425, 32.5769698], [35.289167, 32.576981], [35.2900468, 32.5769567], [35.2907433, 32.5770135], [35.2909097, 32.5770055], [35.2913673, 32.5768858], [35.2917162, 32.5767212], [35.2919477, 32.5765716], [35.2922173, 32.576346], [35.2924653, 32.5760736], [35.2925475, 32.5764382], [35.2925308, 32.5764578], [35.2926888, 32.5767734], [35.2926546, 32.5785488], [35.293082, 32.5815016], [35.2936501, 32.5833177], [35.2939758, 32.5844739], [35.294194, 32.5857176], [35.2947327, 32.5862262], [35.2955069, 32.5872586], [35.2956809, 32.5877032], [35.2958109, 32.5902623], [35.29604, 32.5919687], [35.2962471, 32.5944607], [35.2967013, 32.5965343], [35.2969018, 32.5971648], [35.2983767, 32.6000865], [35.2993267, 32.6016672], [35.3003715, 32.6032636], [35.301311, 32.6045256], [35.3014819, 32.6046748], [35.3027055, 32.6061304], [35.3027847, 32.6063857], [35.3032667, 32.6067913], [35.303609, 32.6097819], [35.3083916, 32.610616], [35.3142673, 32.6110686], [35.3175359, 32.6182322], [35.3176809, 32.6184963], [35.3183059, 32.6182016], [35.3191557, 32.6179624], [35.3198444, 32.6184487], [35.3237391, 32.621503], [35.3237578, 32.6211519], [35.3237618, 32.6210133], [35.3239236, 32.6210193], [35.3240568, 32.619741], [35.3241466, 32.6193707], [35.3247088, 32.6183743], [35.3254036, 32.6175456], [35.325566, 32.6169153], [35.3262443, 32.6162988], [35.3269209, 32.6158911], [35.3273773, 32.6154902], [35.3282545, 32.614979], [35.3288755, 32.6142456], [35.329256, 32.6139565], [35.3303176, 32.6133453], [35.3303915, 32.6133831], [35.3304753, 32.6135419], [35.3308717, 32.613477], [35.3320968, 32.6134938], [35.3328256, 32.6135897], [35.3331649, 32.6135486], [35.3337414, 32.6130575], [35.3337101, 32.6129217], [35.3351755, 32.6125262], [35.3351951, 32.6125093], [35.3351114, 32.6120726], [35.3353726, 32.611848], [35.3360761, 32.6114502], [35.3364013, 32.6123215], [35.3369505, 32.6122302], [35.3371759, 32.6122288], [35.3374633, 32.6120899], [35.3376434, 32.6119217], [35.3381873, 32.6117115], [35.3382916, 32.611823], [35.3390948, 32.6115386], [35.3402029, 32.6112889], [35.3406614, 32.6114473], [35.3414231, 32.611819], [35.3416166, 32.611878], [35.3417828, 32.6121393], [35.3422253, 32.6121168], [35.3421046, 32.6116847], [35.3422463, 32.6114715], [35.3429325, 32.6113874], [35.3435358, 32.6117299], [35.3454041, 32.6138694], [35.345598, 32.614142], [35.3463236, 32.6135522], [35.3467191, 32.6134143], [35.3504465, 32.6128526], [35.3529007, 32.6120055], [35.3550754, 32.6112578], [35.3553922, 32.6110912], [35.3563602, 32.6109717], [35.3583024, 32.6111361], [35.3618978, 32.6106746], [35.3623449, 32.6106419], [35.36368, 32.6104097], [35.3650916, 32.609442], [35.3656093, 32.6092172], [35.3660223, 32.6089264], [35.3668512, 32.6081755], [35.3677449, 32.6079907], [35.3678596, 32.6081427], [35.3678818, 32.6093916], [35.3679376, 32.60987], [35.3704858, 32.6116294], [35.3683498, 32.613172], [35.3687217, 32.6138208], [35.3719385, 32.61312], [35.3734002, 32.6132138], [35.3730263, 32.6152787], [35.3734636, 32.6163275], [35.3736616, 32.6170509], [35.3742374, 32.6175624], [35.3732441, 32.6184598], [35.3731224, 32.6186454], [35.3720819, 32.6193592], [35.3711382, 32.6201314], [35.3701204, 32.6207445], [35.3691556, 32.6211924], [35.36852, 32.6217716], [35.3673616, 32.622918], [35.3662079, 32.623481], [35.3648853, 32.6240395], [35.3632953, 32.6244682], [35.3627853, 32.6245342], [35.3622341, 32.6244707], [35.3611186, 32.6239062], [35.3599789, 32.6230995], [35.3592518, 32.6231793], [35.3585806, 32.6233086], [35.3538501, 32.6240188], [35.3516268, 32.6243765], [35.3508261, 32.6243177], [35.3502796, 32.6241069], [35.3487232, 32.6231017], [35.348625, 32.6229272], [35.348484, 32.6228324], [35.3483565, 32.6227964], [35.3478547, 32.6227636], [35.3471762, 32.622624], [35.3466796, 32.6225803], [35.3468392, 32.6225233], [35.347175, 32.6223352], [35.3473371, 32.6222747], [35.3472493, 32.6221616], [35.3475942, 32.6216028], [35.3481517, 32.6213953], [35.3482603, 32.6213083], [35.348372, 32.6211441], [35.34841, 32.6209805], [35.3483409, 32.6207577], [35.3481514, 32.6205874], [35.347938, 32.6205199], [35.3481341, 32.6199119], [35.3481242, 32.6198403], [35.3479207, 32.6197704], [35.3492189, 32.6196421], [35.3498584, 32.6196464], [35.3510569, 32.6194618], [35.3515679, 32.6191959], [35.3515778, 32.6191254], [35.3515033, 32.6189813], [35.3514817, 32.6188582], [35.3508069, 32.6182172], [35.3506563, 32.6181565], [35.3504914, 32.6181272], [35.3502511, 32.6181775], [35.349991, 32.6181937], [35.3493021, 32.6181008], [35.3493621, 32.617776], [35.3495226, 32.6177531], [35.34956, 32.6177167], [35.3496129, 32.6174876], [35.3494132, 32.6174593], [35.3493617, 32.6175095], [35.3491403, 32.6174236], [35.3489215, 32.6174156], [35.3486341, 32.6175261], [35.3485899, 32.6175787], [35.3486371, 32.6178182], [35.3485839, 32.61799], [35.3486693, 32.6180354], [35.3489945, 32.6181168], [35.3499781, 32.6182468], [35.350254, 32.6182316], [35.3504867, 32.6181841], [35.3506331, 32.618207], [35.3507695, 32.6182595], [35.351429, 32.6188889], [35.3515083, 32.6191741], [35.351089, 32.6193835], [35.3497211, 32.6195943], [35.3492165, 32.6195878], [35.3478079, 32.6197326], [35.347017, 32.6194671], [35.3467696, 32.6190668], [35.3463772, 32.6190649], [35.3463345, 32.6192992], [35.345886, 32.6192347], [35.3458694, 32.6195757], [35.3454018, 32.6193852], [35.3451721, 32.6190839], [35.3450654, 32.6191308], [35.3450192, 32.6192955], [35.3447976, 32.6193678], [35.3447762, 32.6190139], [35.3447315, 32.6189306], [35.3446221, 32.618304], [35.3434838, 32.6183531], [35.3434763, 32.6183281], [35.3425349, 32.6185354], [35.3426417, 32.6189584], [35.3423818, 32.6196194], [35.3413574, 32.6199843], [35.3417792, 32.6206567], [35.3415505, 32.6207722], [35.3420124, 32.6214935], [35.3421831, 32.6218411], [35.3418531, 32.6219096], [35.3415212, 32.6218833], [35.3415363, 32.622275], [35.3410462, 32.6225185], [35.3407175, 32.622928], [35.3407293, 32.6234786], [35.3404198, 32.6235832], [35.3405228, 32.6239586], [35.3421927, 32.6234411], [35.3429946, 32.6230159], [35.34288, 32.6229486], [35.3431133, 32.6228239], [35.3436249, 32.6232506], [35.3439875, 32.6232399], [35.3449595, 32.6236716], [35.3457855, 32.6232706], [35.3461338, 32.6232035], [35.346459, 32.6230335], [35.3466737, 32.6230412], [35.3466303, 32.62276], [35.3471555, 32.6228041], [35.3477716, 32.6229343], [35.3482606, 32.622982], [35.348379, 32.6230479], [35.348437, 32.6231417], [35.3480352, 32.6233994], [35.3478685, 32.6238386], [35.3467644, 32.6251181], [35.3455091, 32.6257175], [35.3450041, 32.6263335], [35.3448462, 32.6264357], [35.3444839, 32.6265031], [35.3436269, 32.6267188], [35.3432245, 32.6270281], [35.3426481, 32.6271882], [35.3427419, 32.6276187], [35.3430474, 32.6276426], [35.3434781, 32.628111], [35.3439616, 32.6281426], [35.3425848, 32.6394434], [35.3437803, 32.6401668], [35.3435244, 32.6405973], [35.3432093, 32.6403562], [35.3415206, 32.6399629], [35.3409421, 32.6394155], [35.3396373, 32.6390441], [35.3358465, 32.6386707], [35.3350104, 32.6386669], [35.3336704, 32.6387531], [35.3320612, 32.6389908], [35.3304654, 32.639397], [35.3241157, 32.6414999], [35.3231756, 32.6417437], [35.3228994, 32.6417337], [35.3226994, 32.6417992], [35.3209124, 32.6418862], [35.3198123, 32.6418554], [35.31786, 32.641577], [35.3161283, 32.6410595], [35.3146911, 32.6403861], [35.3135116, 32.6396397], [35.3124124, 32.638762], [35.311638, 32.6379218], [35.3109739, 32.6369882], [35.3103794, 32.6360652], [35.3105012, 32.6359568], [35.3074488, 32.6312353], [35.3066858, 32.6300048], [35.3057028, 32.6289215], [35.3057104, 32.6288573], [35.3056561, 32.6288517], [35.3035089, 32.6269782], [35.3020859, 32.6261414], [35.3005202, 32.6253786], [35.2994227, 32.6249704], [35.2983017, 32.6246722], [35.2977196, 32.6244493], [35.2967966, 32.6243268], [35.2940095, 32.6241693], [35.2936305, 32.6241891], [35.2929486, 32.624324], [35.2923813, 32.6246546], [35.291943, 32.6247905], [35.2918348, 32.6248822], [35.2917026, 32.6251003], [35.2899918, 32.6252008], [35.289833, 32.6247065], [35.2896629, 32.6244825], [35.2889172, 32.6237698], [35.2886403, 32.623536], [35.288356, 32.6233591], [35.2879296, 32.623195], [35.2845175, 32.6222866], [35.2835335, 32.6219924], [35.2814708, 32.6211946], [35.2795683, 32.6201503], [35.2788927, 32.619493], [35.2787754, 32.619457], [35.2775935, 32.618725], [35.2767616, 32.618176], [35.2755554, 32.6187194], [35.2754435, 32.6187172], [35.2748172, 32.6177268], [35.2708653, 32.6195319], [35.272702, 32.6142154], [35.2658208, 32.6069424], [35.2620883, 32.6031278], [35.2593218, 32.6005954], [35.2563876, 32.5984895]]]]}}]}\n",
      "\n",
      "\n",
      "\n"
     ]
    }
   ],
   "source": [
    "# ID of Relation type from open street map\n",
    "rid = str(1380226)\n",
    "\n",
    "#example Relation data\n",
    "data2 = get_geojson_by_osmID(rid, 'R')\n",
    "print('Relation data\\n')\n",
    "print(data2)\n",
    "print('\\n\\n')"
   ]
  },
  {
   "cell_type": "code",
   "execution_count": 7,
   "metadata": {
    "scrolled": true
   },
   "outputs": [
    {
     "name": "stdout",
     "output_type": "stream",
     "text": [
      "node data\n",
      "\n",
      "{'type': 'FeatureCollection', 'licence': 'Data © OpenStreetMap contributors, ODbL 1.0. https://osm.org/copyright', 'features': [{'type': 'Feature', 'properties': {'place_id': 10716401, 'osm_type': 'node', 'osm_id': 1004424490, 'place_rank': 30, 'category': 'amenity', 'type': 'cinema', 'importance': 0, 'addresstype': 'amenity', 'name': 'גלובוס מקס', 'display_name': 'גלובוס מקס, יצחק נפחא, שכונה ג, באר שבע, מחוז הדרום, no, ישראל', 'address': {'cinema': 'גלובוס מקס', 'road': 'יצחק נפחא', 'suburb': 'שכונה ג', 'city': 'באר שבע', 'state': 'מחוז הדרום', 'postcode': 'no', 'country': 'ישראל', 'country_code': 'il'}}, 'bbox': [34.812099, 31.2480114, 34.812299, 31.2482114], 'geometry': {'type': 'Point', 'coordinates': [34.812199, 31.2481114]}}]}\n"
     ]
    }
   ],
   "source": [
    "##example Node data\n",
    "data3=get_node_by_lat_long(31.2481114, 34.8121990)# cinema globus max Beer Sheva\n",
    "print('node data\\n')\n",
    "print(data3)"
   ]
  },
  {
   "cell_type": "markdown",
   "metadata": {},
   "source": [
    "### Save geojson file \n",
    "###### Geojson is a known format for geographical data.\n",
    "###### Using Geopandas for  easier working with geospatial data ."
   ]
  },
  {
   "cell_type": "code",
   "execution_count": 8,
   "metadata": {},
   "outputs": [
    {
     "name": "stdout",
     "output_type": "stream",
     "text": [
      "    place_id osm_type     osm_id  place_rank category     type  importance  \\\n",
      "0  216734494      way  650788981          19    place  village       0.275   \n",
      "\n",
      "  addresstype       name                                       display_name  \\\n",
      "0       place  ראש הנקרה  ראש הנקרה, מועצה אזורית מטה אשר, מחוז הצפון, י...   \n",
      "\n",
      "                                             address  \\\n",
      "0  {'village': 'ראש הנקרה', 'city': 'מועצה אזורית...   \n",
      "\n",
      "                                            geometry  \n",
      "0  POLYGON ((35.1097884 33.0865436, 35.1098099 33...  \n"
     ]
    }
   ],
   "source": [
    "#save geojson file. default save temporary file\n",
    "#return path\n",
    "def save_geojson(data, filename=None , path=DATA):\n",
    "    tmp=tempfile.NamedTemporaryFile(delete=False)\n",
    "    if filename:\n",
    "        jpath=os.path.join(path,filename+'.geojson')\n",
    "    else:\n",
    "        jpath=tmp.name+'.geojson'\n",
    "    with open(jpath, 'w') as outfile:\n",
    "        json.dump(data, outfile)\n",
    "    return jpath\n",
    "\n",
    "\n",
    "jpath = save_geojson(data1)\n",
    "g = gpd.read_file(jpath)\n",
    "print(g.head())\n"
   ]
  },
  {
   "cell_type": "code",
   "execution_count": 9,
   "metadata": {},
   "outputs": [
    {
     "name": "stdout",
     "output_type": "stream",
     "text": [
      "                                             address addresstype  category  \\\n",
      "0  {'city': 'עפולה', 'state': 'מחוז הצפון', 'post...    boundary  boundary   \n",
      "\n",
      "                        display_name  \\\n",
      "0  עפולה, מחוז הצפון, 1839010, ישראל   \n",
      "\n",
      "                                            geometry  importance   name  \\\n",
      "0  (POLYGON ((35.2474199 32.6057459, 35.2502356 3...    0.553547  עפולה   \n",
      "\n",
      "    osm_id  osm_type   place_id  place_rank            type  \n",
      "0  1380226  relation  235455287          16  administrative  \n"
     ]
    }
   ],
   "source": [
    "gdf = gpd.GeoDataFrame.from_features(data2)\n",
    "print(gdf.head())"
   ]
  },
  {
   "cell_type": "code",
   "execution_count": 10,
   "metadata": {
    "scrolled": true
   },
   "outputs": [
    {
     "data": {
      "text/plain": [
       "<matplotlib.axes._subplots.AxesSubplot at 0x226864a95c0>"
      ]
     },
     "execution_count": 10,
     "metadata": {},
     "output_type": "execute_result"
    },
    {
     "data": {
      "image/png": "[encoded data removed]",
      "text/plain": [
       "<Figure size 432x288 with 1 Axes>"
      ]
     },
     "metadata": {
      "needs_background": "light"
     },
     "output_type": "display_data"
    },
    {
     "data": {
      "image/png": "[encoded data removed]",
      "text/plain": [
       "<Figure size 432x288 with 1 Axes>"
      ]
     },
     "metadata": {
      "needs_background": "light"
     },
     "output_type": "display_data"
    }
   ],
   "source": [
    "%matplotlib inline\n",
    "g.plot()\n",
    "gdf.plot()"
   ]
  },
  {
   "cell_type": "code",
   "execution_count": 11,
   "metadata": {},
   "outputs": [
    {
     "name": "stdout",
     "output_type": "stream",
     "text": [
      "{'type': 'FeatureCollection', 'licence': 'Data © OpenStreetMap contributors, ODbL 1.0. https://osm.org/copyright', 'features': [{'type': 'Feature', 'properties': {'place_id': 235414819, 'osm_type': 'relation', 'osm_id': 1383391, 'place_rank': 16, 'category': 'boundary', 'type': 'administrative', 'importance': 0.5765579669703763, 'addresstype': 'boundary', 'name': 'נתניה', 'display_name': 'נתניה, מחוז המרכז, 42***, ישראל', 'address': {'city': 'נתניה', 'state': 'מחוז המרכז', 'postcode': '42***', 'country': 'ישראל', 'country_code': 'il'}}, 'bbox': [34.8247416, 32.2549044, 34.89601, 32.3534834], 'geometry': {'type': 'Polygon', 'coordinates': [[[34.8247416, 32.2607342], [34.8286616, 32.2597746], [34.8286573, 32.2597351], [34.8289025, 32.2597034], [34.8292466, 32.2596588], [34.8294837, 32.2597342], [34.8311041, 32.2593493], [34.831203, 32.2592909], [34.8321299, 32.259144], [34.8317726, 32.2585751], [34.8318945, 32.2583393], [34.8321434, 32.2579912], [34.8320788, 32.2576241], [34.8314342, 32.2573685], [34.830756, 32.2568306], [34.8301985, 32.2564727], [34.8306843, 32.2562735], [34.8360351, 32.2549044], [34.8361877, 32.2555953], [34.8368082, 32.2573587], [34.8370922, 32.2572193], [34.839773, 32.2647621], [34.8399326, 32.2651971], [34.8401743, 32.2656496], [34.8401395, 32.2657771], [34.8395499, 32.2662412], [34.8391332, 32.2663392], [34.8385138, 32.2660432], [34.8379752, 32.2655152], [34.8376381, 32.265262], [34.8370207, 32.2658275], [34.8371523, 32.266216], [34.837279, 32.266461], [34.8375123, 32.2667387], [34.8378196, 32.2669308], [34.83836, 32.2673771], [34.8387108, 32.2674352], [34.8391, 32.2672071], [34.8396401, 32.267223], [34.8398683, 32.26767], [34.8403097, 32.2680966], [34.8404074, 32.2680708], [34.8407626, 32.2680956], [34.8411043, 32.2679621], [34.8412868, 32.267731], [34.8414467, 32.267652], [34.8420429, 32.268148], [34.8425256, 32.2684502], [34.8429484, 32.2686615], [34.8436396, 32.2689084], [34.8491355, 32.2700382], [34.8496723, 32.2701964], [34.8503094, 32.2704248], [34.8511034, 32.2707646], [34.8516091, 32.2710236], [34.8529506, 32.2718722], [34.8534288, 32.2723097], [34.8546715, 32.2736807], [34.8568149, 32.2725453], [34.8571867, 32.2724076], [34.8583002, 32.2720872], [34.8594822, 32.272012], [34.8598417, 32.2721364], [34.8605986, 32.2725538], [34.8622138, 32.2733493], [34.8631097, 32.2732255], [34.8639054, 32.273857], [34.8642178, 32.2738542], [34.8657857, 32.2748445], [34.8667249, 32.2752906], [34.8661669, 32.2759144], [34.866338, 32.2760289], [34.8672841, 32.2768587], [34.8679596, 32.2775054], [34.8678282, 32.2776131], [34.8685163, 32.2784802], [34.869063, 32.2792788], [34.8695555, 32.2800818], [34.8699797, 32.2808814], [34.8704908, 32.281996], [34.8709507, 32.281997], [34.8709412, 32.2819711], [34.8725767, 32.2814128], [34.872461, 32.2815532], [34.8724312, 32.2817394], [34.8726396, 32.2827796], [34.8725715, 32.2841307], [34.8724744, 32.2853355], [34.8723485, 32.2856598], [34.8720218, 32.286085], [34.8717537, 32.2863706], [34.871303, 32.286645], [34.8723007, 32.2871667], [34.8733698, 32.2877788], [34.8770519, 32.2905072], [34.8812718, 32.2929975], [34.8825048, 32.292789], [34.8825091, 32.2928588], [34.8837546, 32.2926962], [34.8839468, 32.2932066], [34.8839821, 32.2934], [34.884681, 32.293541], [34.8858656, 32.2933867], [34.8860922, 32.2939108], [34.8860333, 32.29821], [34.886104, 32.2994292], [34.8864168, 32.3025045], [34.8869929, 32.30555], [34.8871286, 32.306402], [34.8878288, 32.3083145], [34.8878949, 32.3082978], [34.8899635, 32.3136754], [34.8908443, 32.315218], [34.8918558, 32.3169917], [34.8916705, 32.317047], [34.8918417, 32.3175487], [34.8919611, 32.3180353], [34.8920604, 32.318925], [34.8927489, 32.3188191], [34.8928167, 32.3189195], [34.8932333, 32.3188803], [34.8933888, 32.3188581], [34.8939459, 32.3186719], [34.8940436, 32.3186712], [34.8941021, 32.3188851], [34.8957654, 32.3218824], [34.89601, 32.3236711], [34.8899638, 32.3232237], [34.8899471, 32.3233998], [34.8882463, 32.323283], [34.8876558, 32.3232758], [34.8868088, 32.3233107], [34.8766998, 32.3241023], [34.8779172, 32.3278782], [34.8746428, 32.3281424], [34.8746294, 32.3279835], [34.8713223, 32.3282657], [34.8713295, 32.3283451], [34.8711213, 32.3283705], [34.871718, 32.3313414], [34.8720731, 32.3313905], [34.8728891, 32.3316072], [34.8749072, 32.3319193], [34.8750141, 32.3338466], [34.8750116, 32.3349236], [34.8731817, 32.3353342], [34.875653, 32.3406853], [34.8772411, 32.3440344], [34.8755057, 32.3444322], [34.8736874, 32.3449428], [34.8701406, 32.3453645], [34.8672856, 32.3456511], [34.8642385, 32.3458627], [34.8624338, 32.3460897], [34.8622932, 32.3471205], [34.8625947, 32.3471058], [34.8627004, 32.3477752], [34.862069, 32.3480522], [34.8621844, 32.3482178], [34.8629613, 32.3488932], [34.8635564, 32.3488831], [34.8635749, 32.348948], [34.8642227, 32.3495235], [34.8663038, 32.3515313], [34.8666928, 32.3511892], [34.8670103, 32.3516934], [34.8676033, 32.3518145], [34.8676599, 32.3518007], [34.8676542, 32.3516606], [34.8679219, 32.3522779], [34.8680592, 32.352396], [34.8686326, 32.3523343], [34.8685955, 32.3528427], [34.8691396, 32.3528792], [34.8691086, 32.3533535], [34.8690113, 32.353427], [34.8680361, 32.3533536], [34.8680226, 32.3534834], [34.8651833, 32.3532698], [34.8652036, 32.3529684], [34.8645217, 32.3525905], [34.8643835, 32.3524556], [34.8634773, 32.3525629], [34.8632575, 32.3520483], [34.8621221, 32.3523773], [34.8605313, 32.3522772], [34.8605215, 32.3523386], [34.8605754, 32.3525236], [34.8596936, 32.3526705], [34.8596665, 32.3525414], [34.8596057, 32.3525397], [34.8586634, 32.3527079], [34.8588047, 32.3531032], [34.8579042, 32.3531481], [34.8578427, 32.3522529], [34.8556772, 32.3523557], [34.8558114, 32.352081], [34.8543166, 32.3523992], [34.8539975, 32.3524564], [34.850712, 32.3530441], [34.8485536, 32.3443908], [34.8280569, 32.2707315], [34.8247416, 32.2607342]]]}}]}\n"
     ]
    }
   ],
   "source": [
    "#test polygon\n",
    "lat=str(32.2876)\n",
    "lon=str(34.8443)\n",
    "\n",
    "data=get_polygon_by_lat_long(lat,lon)\n",
    "print(data)"
   ]
  },
  {
   "cell_type": "code",
   "execution_count": 12,
   "metadata": {},
   "outputs": [
    {
     "data": {
      "text/plain": [
       "<matplotlib.axes._subplots.AxesSubplot at 0x226864ea4a8>"
      ]
     },
     "execution_count": 12,
     "metadata": {},
     "output_type": "execute_result"
    },
    {
     "data": {
      "image/png": "[encoded data removed]",
      "text/plain": [
       "<Figure size 432x288 with 1 Axes>"
      ]
     },
     "metadata": {
      "needs_background": "light"
     },
     "output_type": "display_data"
    }
   ],
   "source": [
    "gpd.GeoDataFrame.from_features(data).plot()"
   ]
  },
  {
   "cell_type": "code",
   "execution_count": 13,
   "metadata": {},
   "outputs": [
    {
     "name": "stdout",
     "output_type": "stream",
     "text": [
      "{'type': 'FeatureCollection', 'licence': 'Data © OpenStreetMap contributors, ODbL 1.0. https://osm.org/copyright', 'features': [{'type': 'Feature', 'properties': {'place_id': 235414819, 'osm_type': 'relation', 'osm_id': 1383391, 'display_name': 'נתניה, מחוז המרכז, 42***, ישראל', 'place_rank': 16, 'category': 'boundary', 'type': 'administrative', 'importance': 0.6865579669703763, 'icon': 'https://nominatim.openstreetmap.org/images/mapicons/poi_boundary_administrative.p.20.png'}, 'bbox': [34.8247416, 32.2549044, 34.89601, 32.3534834], 'geometry': {'type': 'Polygon', 'coordinates': [[[34.8247416, 32.2607342], [34.8286616, 32.2597746], [34.8286573, 32.2597351], [34.8289025, 32.2597034], [34.8292466, 32.2596588], [34.8294837, 32.2597342], [34.8311041, 32.2593493], [34.831203, 32.2592909], [34.8321299, 32.259144], [34.8317726, 32.2585751], [34.8318945, 32.2583393], [34.8321434, 32.2579912], [34.8320788, 32.2576241], [34.8314342, 32.2573685], [34.830756, 32.2568306], [34.8301985, 32.2564727], [34.8306843, 32.2562735], [34.8360351, 32.2549044], [34.8361877, 32.2555953], [34.8368082, 32.2573587], [34.8370922, 32.2572193], [34.839773, 32.2647621], [34.8399326, 32.2651971], [34.8401743, 32.2656496], [34.8401395, 32.2657771], [34.8395499, 32.2662412], [34.8391332, 32.2663392], [34.8385138, 32.2660432], [34.8379752, 32.2655152], [34.8376381, 32.265262], [34.8370207, 32.2658275], [34.8371523, 32.266216], [34.837279, 32.266461], [34.8375123, 32.2667387], [34.8378196, 32.2669308], [34.83836, 32.2673771], [34.8387108, 32.2674352], [34.8391, 32.2672071], [34.8396401, 32.267223], [34.8398683, 32.26767], [34.8403097, 32.2680966], [34.8404074, 32.2680708], [34.8407626, 32.2680956], [34.8411043, 32.2679621], [34.8412868, 32.267731], [34.8414467, 32.267652], [34.8420429, 32.268148], [34.8425256, 32.2684502], [34.8429484, 32.2686615], [34.8436396, 32.2689084], [34.8491355, 32.2700382], [34.8496723, 32.2701964], [34.8503094, 32.2704248], [34.8511034, 32.2707646], [34.8516091, 32.2710236], [34.8529506, 32.2718722], [34.8534288, 32.2723097], [34.8546715, 32.2736807], [34.8568149, 32.2725453], [34.8571867, 32.2724076], [34.8583002, 32.2720872], [34.8594822, 32.272012], [34.8598417, 32.2721364], [34.8605986, 32.2725538], [34.8622138, 32.2733493], [34.8631097, 32.2732255], [34.8639054, 32.273857], [34.8642178, 32.2738542], [34.8657857, 32.2748445], [34.8667249, 32.2752906], [34.8661669, 32.2759144], [34.866338, 32.2760289], [34.8672841, 32.2768587], [34.8679596, 32.2775054], [34.8678282, 32.2776131], [34.8685163, 32.2784802], [34.869063, 32.2792788], [34.8695555, 32.2800818], [34.8699797, 32.2808814], [34.8704908, 32.281996], [34.8709507, 32.281997], [34.8709412, 32.2819711], [34.8725767, 32.2814128], [34.872461, 32.2815532], [34.8724312, 32.2817394], [34.8726396, 32.2827796], [34.8725715, 32.2841307], [34.8724744, 32.2853355], [34.8723485, 32.2856598], [34.8720218, 32.286085], [34.8717537, 32.2863706], [34.871303, 32.286645], [34.8723007, 32.2871667], [34.8733698, 32.2877788], [34.8770519, 32.2905072], [34.8812718, 32.2929975], [34.8825048, 32.292789], [34.8825091, 32.2928588], [34.8837546, 32.2926962], [34.8839468, 32.2932066], [34.8839821, 32.2934], [34.884681, 32.293541], [34.8858656, 32.2933867], [34.8860922, 32.2939108], [34.8860333, 32.29821], [34.886104, 32.2994292], [34.8864168, 32.3025045], [34.8869929, 32.30555], [34.8871286, 32.306402], [34.8878288, 32.3083145], [34.8878949, 32.3082978], [34.8899635, 32.3136754], [34.8908443, 32.315218], [34.8918558, 32.3169917], [34.8916705, 32.317047], [34.8918417, 32.3175487], [34.8919611, 32.3180353], [34.8920604, 32.318925], [34.8927489, 32.3188191], [34.8928167, 32.3189195], [34.8932333, 32.3188803], [34.8933888, 32.3188581], [34.8939459, 32.3186719], [34.8940436, 32.3186712], [34.8941021, 32.3188851], [34.8957654, 32.3218824], [34.89601, 32.3236711], [34.8899638, 32.3232237], [34.8899471, 32.3233998], [34.8882463, 32.323283], [34.8876558, 32.3232758], [34.8868088, 32.3233107], [34.8766998, 32.3241023], [34.8779172, 32.3278782], [34.8746428, 32.3281424], [34.8746294, 32.3279835], [34.8713223, 32.3282657], [34.8713295, 32.3283451], [34.8711213, 32.3283705], [34.871718, 32.3313414], [34.8720731, 32.3313905], [34.8728891, 32.3316072], [34.8749072, 32.3319193], [34.8750141, 32.3338466], [34.8750116, 32.3349236], [34.8731817, 32.3353342], [34.875653, 32.3406853], [34.8772411, 32.3440344], [34.8755057, 32.3444322], [34.8736874, 32.3449428], [34.8701406, 32.3453645], [34.8672856, 32.3456511], [34.8642385, 32.3458627], [34.8624338, 32.3460897], [34.8622932, 32.3471205], [34.8625947, 32.3471058], [34.8627004, 32.3477752], [34.862069, 32.3480522], [34.8621844, 32.3482178], [34.8629613, 32.3488932], [34.8635564, 32.3488831], [34.8635749, 32.348948], [34.8642227, 32.3495235], [34.8663038, 32.3515313], [34.8666928, 32.3511892], [34.8670103, 32.3516934], [34.8676033, 32.3518145], [34.8676599, 32.3518007], [34.8676542, 32.3516606], [34.8679219, 32.3522779], [34.8680592, 32.352396], [34.8686326, 32.3523343], [34.8685955, 32.3528427], [34.8691396, 32.3528792], [34.8691086, 32.3533535], [34.8690113, 32.353427], [34.8680361, 32.3533536], [34.8680226, 32.3534834], [34.8651833, 32.3532698], [34.8652036, 32.3529684], [34.8645217, 32.3525905], [34.8643835, 32.3524556], [34.8634773, 32.3525629], [34.8632575, 32.3520483], [34.8621221, 32.3523773], [34.8605313, 32.3522772], [34.8605215, 32.3523386], [34.8605754, 32.3525236], [34.8596936, 32.3526705], [34.8596665, 32.3525414], [34.8596057, 32.3525397], [34.8586634, 32.3527079], [34.8588047, 32.3531032], [34.8579042, 32.3531481], [34.8578427, 32.3522529], [34.8556772, 32.3523557], [34.8558114, 32.352081], [34.8543166, 32.3523992], [34.8539975, 32.3524564], [34.850712, 32.3530441], [34.8485536, 32.3443908], [34.8280569, 32.2707315], [34.8247416, 32.2607342]]]}}]}\n"
     ]
    }
   ],
   "source": [
    "city='נתניה'\n",
    "\n",
    "data=get_polygon_by_city(city)\n",
    "print(data)"
   ]
  },
  {
   "cell_type": "code",
   "execution_count": 14,
   "metadata": {
    "scrolled": true
   },
   "outputs": [
    {
     "data": {
      "text/plain": [
       "<matplotlib.axes._subplots.AxesSubplot at 0x226864fbeb8>"
      ]
     },
     "execution_count": 14,
     "metadata": {},
     "output_type": "execute_result"
    },
    {
     "data": {
      "image/png": "[encoded data removed]",
      "text/plain": [
       "<Figure size 432x288 with 1 Axes>"
      ]
     },
     "metadata": {
      "needs_background": "light"
     },
     "output_type": "display_data"
    }
   ],
   "source": [
    "gpd.GeoDataFrame.from_features(data).plot()"
   ]
  }
 ],
 "metadata": {
  "kernelspec": {
   "display_name": "Python 3",
   "language": "python",
   "name": "python3"
  },
  "language_info": {
   "codemirror_mode": {
    "name": "ipython",
    "version": 3
   },
   "file_extension": ".py",
   "mimetype": "text/x-python",
   "name": "python",
   "nbconvert_exporter": "python",
   "pygments_lexer": "ipython3",
   "version": "3.6.7"
  },
  "toc": {
   "base_numbering": 1,
   "nav_menu": {},
   "number_sections": true,
   "sideBar": true,
   "skip_h1_title": false,
   "title_cell": "Table of Contents",
   "title_sidebar": "Contents",
   "toc_cell": false,
   "toc_position": {},
   "toc_section_display": true,
   "toc_window_display": true
  },
  "varInspector": {
   "cols": {
    "lenName": 16,
    "lenType": 16,
    "lenVar": 40
   },
   "kernels_config": {
    "python": {
     "delete_cmd_postfix": "",
     "delete_cmd_prefix": "del ",
     "library": "var_list.py",
     "varRefreshCmd": "print(var_dic_list())"
    },
    "r": {
     "delete_cmd_postfix": ") ",
     "delete_cmd_prefix": "rm(",
     "library": "var_list.r",
     "varRefreshCmd": "cat(var_dic_list()) "
    }
   },
   "types_to_exclude": [
    "module",
    "function",
    "builtin_function_or_method",
    "instance",
    "_Feature"
   ],
   "window_display": false
  }
 },
 "nbformat": 4,
 "nbformat_minor": 2
}
